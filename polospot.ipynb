{
 "cells": [
  {
   "cell_type": "markdown",
   "metadata": {},
   "source": [
    "# Poloniex manual spot mm\n",
    "Places orders at the best bid and best ask of desired symbol\n",
    "Referral link: https://poloniex.com/signup?c=E6DSDXA6\n",
    "Referral code: E6DSDXA6\n",
    "\n",
    "#### Instructions\n",
    "keep '' put your value between 'valuesgoeshere'\n",
    "api_key = 'yourkey'\n",
    "api_secret = 'yoursecret'\n",
    "Fill in setup with info\n",
    "spot = 'TRX_USDT'\n",
    "quantity = '55' this is quantity per side"
   ]
  },
  {
   "cell_type": "code",
   "execution_count": 1,
   "metadata": {},
   "outputs": [],
   "source": [
    "from polosdk import RestClient\n",
    "import mplfinance as mpf\n",
    "import pandas as pd\n",
    "# import tensorflow as tf\n",
    "import matplotlib.pyplot as plt \n",
    "import mplfinance as mpf\n",
    "import matplotlib.animation as animation\n",
    "from matplotlib import style\n",
    "import datetime as dt\n",
    "import pytz\n",
    "import numpy\n",
    "new_york_timezone = pytz.timezone('America/New_York')\n",
    "import json\n",
    "\n",
    "#setup\n",
    "symbol = 'TRXUSDTPERP'\n",
    "spot = 'TRX_USDT'\n",
    "trxbtc = 'TRXBTC'\n",
    "from polosdk import WsClientPublic\n",
    "clientoid = 'lilqwantxbt'\n",
    "make = 'LIMIT_MAKER'\n",
    "quantity = '55'\n",
    "\n",
    "\n",
    "def on_message(msg):\n",
    "    print(msg)\n",
    "\n",
    "def on_error(err):\n",
    "    print(err)\n",
    "\n",
    "import os\n",
    "import time\n",
    "\n",
    "api_key = 'put your key'\n",
    "api_secret = 'put your key'\n",
    "\n",
    "client = RestClient(api_key, api_secret)\n",
    "pull_ticker = client.markets().get_ticker24h(symbol=spot)\n",
    "trxob = client.markets().get_orderbook(spot)\n",
    "lasttrade = client.markets().get_trades(symbol=spot)\n",
    "lastprice = lasttrade[0]['price']\n",
    "mintick = float(trxob['scale'])\n",
    "bid = float(pull_ticker['bid'])\n",
    "ask = float(pull_ticker['ask'])\n",
    "open = float(pull_ticker['open'])\n",
    "low = float(pull_ticker['low'])\n",
    "high = float(pull_ticker['high'])\n",
    "close = float(pull_ticker['close'])\n",
    "closetime = pull_ticker['closeTime']\n",
    "markprice = float(pull_ticker['markPrice'])\n",
    "\n",
    "openorders = client.orders().get_all()\n",
    "\n",
    "frontbid = markprice - mintick\n",
    "frontask = markprice + mintick\n",
    "make = 'LIMIT_MAKER'\n",
    "# Cancel all orders on 'BTC_USDT'\n",
    "canall = client.orders().cancel(symbol=spot)\n"
   ]
  },
  {
   "cell_type": "code",
   "execution_count": 11,
   "metadata": {},
   "outputs": [
    {
     "name": "stdout",
     "output_type": "stream",
     "text": [
      "['266873339283320832']\n"
     ]
    }
   ],
   "source": [
    "pull_ticker\n",
    "# Create a limit order for 0.00025 BTC at 20000 USDT\n",
    "multi_order_request = [\n",
    "                {\n",
    "'price': f'{ask}',\n",
    "'quantity': f'{quantity}',\n",
    "'side': 'SELL',\n",
    "'symbol': f'{spot}',\n",
    "'type': f'{make}',\n",
    "# 'client_order_id':f'{clientoid}'\n",
    "                },\n",
    "                {\n",
    "'price': f'{bid}',\n",
    "'quantity': f'{quantity}',\n",
    "'side': 'BUY',\n",
    "'symbol': f'{spot}',\n",
    "'type': f'{make}',\n",
    "# 'client_order_id':f'{clientoid}'\n",
    "                }\n",
    "            ]\n",
    "\n",
    "\n",
    "# limitsell = client.orders().create(price=lastprice,\n",
    "#                                   quantity='2',\n",
    "#                                   side='SELL',\n",
    "#                                   symbol='WSTUSDT_USDT',\n",
    "#                                   type=make,\n",
    "#                                 client_order_id=f'{clientoid}')\n",
    "\n",
    "\n",
    "multiorder = client.orders().create_multiple(multi_order_request)\n",
    "multiorder\n",
    "openorders\n",
    "ordercount = 0\n",
    "multioid = []\n",
    "for orders in openorders:\n",
    "    multioid.append(orders['id'])\n",
    "\n",
    "print(multioid)"
   ]
  },
  {
   "cell_type": "code",
   "execution_count": 12,
   "metadata": {},
   "outputs": [
    {
     "name": "stdout",
     "output_type": "stream",
     "text": [
      "2\n"
     ]
    }
   ],
   "source": [
    "openorders = client.orders().get_all()\n",
    "numorders = 0\n",
    "for thing in openorders:\n",
    "    numorders +=1\n",
    "print(numorders)\n",
    "# openorders\n",
    "# mylasttrade = client.orders().get_trades(266859578451361793)\n",
    "# mylasttrade"
   ]
  },
  {
   "cell_type": "code",
   "execution_count": 13,
   "metadata": {},
   "outputs": [],
   "source": [
    "# Cancel all orders on 'BTC_USDT'\n",
    "canall = client.orders().cancel(symbol=symbol)"
   ]
  },
  {
   "cell_type": "code",
   "execution_count": 14,
   "metadata": {},
   "outputs": [],
   "source": [
    "!pip freeze > requirements.txt\n"
   ]
  },
  {
   "cell_type": "markdown",
   "metadata": {},
   "source": [
    "# dont run anything else after this\n"
   ]
  },
  {
   "cell_type": "code",
   "execution_count": 42,
   "metadata": {},
   "outputs": [
    {
     "name": "stdout",
     "output_type": "stream",
     "text": [
      "9.543147442497643272\n",
      "30dvol: 902.379939197949968384\n"
     ]
    }
   ],
   "source": [
    "transferbal = client.accounts().transfer('USDT', '0.1', 'SPOT', 'FUTURES')\n",
    "transferbal['transferId']\n",
    "\n",
    "# Get a list of all accounts of a user with each account’s id, type and balances (assets)\n",
    "alldetailed = client.accounts().get_balances()\n",
    "balances = alldetailed[0]['balances']\n",
    "spotbtc = balances[0]\n",
    "spotusdt = balances[1]\n",
    "spottrx = balances[2]\n",
    "# print(balances)\n",
    "availxbt = spotbtc['available']\n",
    "availusdt = spotusdt['available']\n",
    "availtrx = spottrx['available']\n",
    "print(availtrx)\n",
    "\n",
    "# Get fee rate for an account\n",
    "feerates=client.accounts().get_fee_info()\n",
    "makerrate = feerates['makerRate']\n",
    "takerrate = feerates['takerRate']\n",
    "vol30d = feerates['volume30D']\n",
    "\n",
    "print(f'30dvol: {vol30d}')"
   ]
  },
  {
   "cell_type": "code",
   "execution_count": 26,
   "metadata": {},
   "outputs": [
    {
     "data": {
      "text/plain": [
       "[{'symbol': 'TRX_USDT',\n",
       "  'baseCurrencyName': 'TRX',\n",
       "  'quoteCurrencyName': 'USDT',\n",
       "  'displayName': 'TRX/USDT',\n",
       "  'state': 'NORMAL',\n",
       "  'visibleStartTime': 1659018823984,\n",
       "  'tradableStartTime': 1659018823985,\n",
       "  'symbolTradeLimit': {'symbol': 'TRX_USDT',\n",
       "   'priceScale': 5,\n",
       "   'quantityScale': 3,\n",
       "   'amountScale': 5,\n",
       "   'minQuantity': '0.001',\n",
       "   'minAmount': '1',\n",
       "   'highestBid': '0',\n",
       "   'lowestAsk': '0'},\n",
       "  'crossMargin': {'supportCrossMargin': True, 'maxLeverage': 3}}]"
      ]
     },
     "execution_count": 26,
     "metadata": {},
     "output_type": "execute_result"
    }
   ],
   "source": [
    "client.get_market(spot)"
   ]
  },
  {
   "cell_type": "code",
   "execution_count": 43,
   "metadata": {},
   "outputs": [],
   "source": [
    "# Create a market order for 5 USDT of BTC\n",
    "response = client.orders().create(side='BUY', amount='5', symbol='TRX_USDT')"
   ]
  },
  {
   "cell_type": "code",
   "execution_count": null,
   "metadata": {},
   "outputs": [],
   "source": []
  },
  {
   "cell_type": "code",
   "execution_count": 122,
   "metadata": {},
   "outputs": [
    {
     "ename": "TypeError",
     "evalue": "get_trades() missing 1 required positional argument: 'order_id'",
     "output_type": "error",
     "traceback": [
      "\u001b[1;31m---------------------------------------------------------------------------\u001b[0m",
      "\u001b[1;31mTypeError\u001b[0m                                 Traceback (most recent call last)",
      "Cell \u001b[1;32mIn[122], line 1\u001b[0m\n\u001b[1;32m----> 1\u001b[0m mylasttrade \u001b[38;5;241m=\u001b[39m \u001b[43mclient\u001b[49m\u001b[38;5;241;43m.\u001b[39;49m\u001b[43morders\u001b[49m\u001b[43m(\u001b[49m\u001b[43m)\u001b[49m\u001b[38;5;241;43m.\u001b[39;49m\u001b[43mget_trades\u001b[49m\u001b[43m(\u001b[49m\u001b[43m)\u001b[49m\n\u001b[0;32m      2\u001b[0m \u001b[38;5;66;03m# mylasttrade[0]\u001b[39;00m\n",
      "\u001b[1;31mTypeError\u001b[0m: get_trades() missing 1 required positional argument: 'order_id'"
     ]
    }
   ],
   "source": [
    "mylasttrade = client.orders().get_trades()\n",
    "# mylasttrade[0]"
   ]
  },
  {
   "cell_type": "code",
   "execution_count": 25,
   "metadata": {},
   "outputs": [],
   "source": [
    "lasttrade = client.markets().get_trades(symbol='WSTUSDT_USDT')\n",
    "lastprice = lasttrade[0]['price']"
   ]
  },
  {
   "cell_type": "code",
   "execution_count": null,
   "metadata": {},
   "outputs": [],
   "source": [
    "import asyncio\n",
    "from polosdk import WsClientPublic\n",
    "\n",
    "async def on_message(msg):\n",
    "    global lastprice\n",
    "\n",
    "    # Check if the message is a 'pong' response\n",
    "    if msg.get('event') == 'pong':\n",
    "        print('Received pong')\n",
    "        return\n",
    "\n",
    "    # Print the entire message for debugging\n",
    "    print(msg)\n",
    "\n",
    "    # Assuming your WebSocket message has a 'data' field containing the actual trade information\n",
    "    data = msg.get('data', [])\n",
    "\n",
    "    for trade in data:\n",
    "        # Assuming your WebSocket message has a 'takerSide' attribute representing the taker side\n",
    "        lastprice = trade.get('price', '')\n",
    "\n",
    "        print(lastprice)\n",
    "\n",
    "\n",
    "\n",
    "\n",
    "\n",
    "async def on_error(err):\n",
    "    print(err)\n",
    "\n",
    "async def handle_websocket():\n",
    "    ws_client_public = WsClientPublic(on_message, on_error=on_error)\n",
    "    await ws_client_public.connect()\n",
    "    await ws_client_public.subscribe(['trades'], ['WSTUSDT_USDT'])\n",
    "\n",
    "    # Simulate running indefinitely to receive WebSocket messages\n",
    "    try:\n",
    "        while True:\n",
    "            await asyncio.sleep(1)\n",
    "    except asyncio.CancelledError:\n",
    "        await ws_client_public.disconnect()\n",
    "\n",
    "# Run the asyncio event loop\n",
    "await asyncio.create_task(handle_websocket())\n",
    "\n",
    "# To stop the loop gracefully, use asyncio.gather or other mechanisms\n",
    "try:\n",
    "    await asyncio.get_event_loop().run_forever()\n",
    "except KeyboardInterrupt:\n",
    "    pass\n",
    "finally:\n",
    "    await asyncio.get_event_loop().close()\n"
   ]
  }
 ],
 "metadata": {
  "kernelspec": {
   "display_name": "polo",
   "language": "python",
   "name": "python3"
  },
  "language_info": {
   "codemirror_mode": {
    "name": "ipython",
    "version": 3
   },
   "file_extension": ".py",
   "mimetype": "text/x-python",
   "name": "python",
   "nbconvert_exporter": "python",
   "pygments_lexer": "ipython3",
   "version": "3.9.18"
  }
 },
 "nbformat": 4,
 "nbformat_minor": 2
}
